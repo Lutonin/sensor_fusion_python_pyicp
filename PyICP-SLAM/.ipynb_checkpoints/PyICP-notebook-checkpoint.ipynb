{
 "cells": [
  {
   "cell_type": "markdown",
   "id": "light-dimension",
   "metadata": {},
   "source": [
    "![ai_robo_kr_logo](https://user-images.githubusercontent.com/12381733/115536894-3708f600-a2d5-11eb-92db-44521460a1ba.jpg)\n",
    "\n",
    "# [AI Robotics Korea] Sensor Fusion Study - SLAM++ Team\n",
    "\n",
    "## Author\n",
    "\n",
    "- 김수영\n",
    "- 강한솔"
   ]
  },
  {
   "cell_type": "markdown",
   "id": "joint-pearl",
   "metadata": {},
   "source": [
    "Try running Lidar SLAM through PyICP and understand how it works. All this process is possible through python.\n",
    "> Special thanks to [Giseop Kim](https://github.com/gisbi-kim) and His Repo"
   ]
  },
  {
   "cell_type": "markdown",
   "id": "caring-canon",
   "metadata": {},
   "source": [
    "## index:\n",
    "* [PyICP ready to run] (#PyICP-run-ready)\n",
    "* [A quick look at PyICP](#PyICP-Simple-Look at)\n",
    "* [Main-Loop-Run](#Main-Loop-Run)\n",
    "* [Result analysis](#result-analysis)"
   ]
  },
  {
   "cell_type": "markdown",
   "id": "hollywood-return",
   "metadata": {},
   "source": [
    "# **PyICP** ready to run <a class=\"anchor\" id=\"PyICP-run-ready\"></a>"
   ]
  },
  {
   "cell_type": "markdown",
   "id": "approved-chicago",
   "metadata": {},
   "source": [
    "Check that the dependency [minisam](https://github.com/dongjing3309/minisam) / [pykitti](https://github.com/utiasSTARS/pykitti) is installed properly."
   ]
  },
  {
   "cell_type": "code",
   "execution_count": 1,
   "id": "verified-rings",
   "metadata": {},
   "outputs": [
    {
     "name": "stdout",
     "output_type": "stream",
     "text": [
      "minisam                       0.0.0\r\n"
     ]
    }
   ],
   "source": [
    "!pip list | grep mini"
   ]
  },
  {
   "cell_type": "code",
   "execution_count": 2,
   "id": "conceptual-enzyme",
   "metadata": {
    "scrolled": false
   },
   "outputs": [
    {
     "name": "stdout",
     "output_type": "stream",
     "text": [
      "pykitti                       0.3.1\r\n"
     ]
    }
   ],
   "source": [
    "!pip list | grep pykitti"
   ]
  },
  {
   "cell_type": "markdown",
   "id": "interim-canyon",
   "metadata": {},
   "source": [
    "## Import packages."
   ]
  },
  {
   "cell_type": "code",
   "execution_count": 3,
   "id": "quick-check",
   "metadata": {},
   "outputs": [],
   "source": [
    "import os\n",
    "import sys\n",
    "import csv\n",
    "import copy\n",
    "import time\n",
    "import random\n",
    "import argparse\n",
    "\n",
    "import numpy as np\n",
    "np.set_printoptions(precision=4)\n",
    "\n",
    "%matplotlib inline\n",
    "from matplotlib.animation import FFMpegWriter\n",
    "\n",
    "from tqdm import tqdm\n",
    "\n",
    "import pykitti"
   ]
  },
  {
   "cell_type": "markdown",
   "id": "burning-cliff",
   "metadata": {},
   "source": [
    "Import the following modules from the **utils** folder.\n",
    "* **ScanContextManager** : This part handles the scan context responsible for loop closure detection.\n",
    "* **PoseGraphManager**: Based on minisam, the graph is expanded whenever a new pose is entered, and back-end optimization is performed when loop closure is detected.\n",
    "* **UtilsMisc** : It is a file containing several utilities such as PoseGraphResultSaver that saves the generated pose graph as a static file worthy of the name miscellaneous, and yawdeg2se3 that handles rotation angle after loop closure detection.\n",
    "* **UtilsPointcloud** : It contains a util that loads and traverses the KITTI Dataset. In fact, it does not have much efficiency as it uses pykitti. It will be merged into other utils during refactoring."
   ]
  },
  {
   "cell_type": "code",
   "execution_count": 4,
   "id": "strange-interaction",
   "metadata": {},
   "outputs": [],
   "source": [
    "from minisam import *\n",
    "from utils.ScanContextManager import *\n",
    "from utils.PoseGraphManager import *\n",
    "from utils.UtilsMisc import *\n",
    "import utils.UtilsPointcloud as Ptutils\n",
    "import utils.ICP as ICP"
   ]
  },
  {
   "cell_type": "markdown",
   "id": "daily-purple",
   "metadata": {},
   "source": [
    "### Set required parameters throughout PyICP.\n",
    "\n",
    "ICP Params\n",
    "* **num_icp_points** : Because the number of velodyne point clouds is too large, only 5000 random points are selected.\n",
    "\n",
    "Scan Context Params\n",
    "* **num_rings** / **num_sectors** : Declare the horizontal and vertical ring and sector values ​​of the scan context.\n",
    "* **num_candidates** : During loop closure detection, N candidates similar to the current scan context are selected and the most similar scan context is selected. It is the value of how many candidates will be selected in this process. Because it is a count, it takes a positive integer value.\n",
    "* **loop_threshold** : Calculates the difference between two scan contexts. If the difference is greater than this value, it is considered not similar and the subsequent process is ignored.\n",
    "\n",
    "Batch Params\n",
    "* **try_gap_loop_detection** : Computing loop detection every timestamp is a huge operation. Instead of doing this, it takes as many steps as this parameter and calculates the loop closure.\n",
    "* **save_gap** : works similar to try_gap_loop_detection. Instead of saving the result every cycle, the pose corresponding to a multiple of this value is saved in csv format."
   ]
  },
  {
   "cell_type": "code",
   "execution_count": 5,
   "id": "divine-enterprise",
   "metadata": {},
   "outputs": [],
   "source": [
    "num_icp_points = 5000 # 5000 is enough for real time\n",
    "\n",
    "num_rings = 30 #20 # same as the original paper\n",
    "num_sectors = 70 #60 # same as the original paper\n",
    "num_candidates = 20 #10 # must be int\n",
    "try_gap_loop_detection = 10 # same as the original paper\n",
    "\n",
    "loop_threshold = 0.11 # 0.11 is usually safe (for avoiding false loop closure)\n",
    "\n",
    "save_gap = 300"
   ]
  },
  {
   "cell_type": "markdown",
   "id": "interesting-cornwall",
   "metadata": {},
   "source": [
    "### Add the odometry dataset using pykitti.\n",
    "\n",
    "> Existing PyICP used [Odometry Dataset] (http://www.cvlibs.net/datasets/kitti/eval_odometry.php), whereas common Raw Dataset was used for study.\n",
    "\n",
    "\n",
    "Dataset Params\n",
    "\n",
    "* **kitti_root_dir** : Set the location of `KITTI dataset`. This setting depends on where the user downloaded the dataset.\n",
    "* **kitti_date** / **kitti_drive** : The structure of the Dataset folder I used is marked at the bottom. When you download and unzip the dataset, a folder with the same name as `2011_09_30_drive_0033_sync` appears, where **2011_09_30** corresponds to **kitti_date**, and **0033** to **kitti_drive** will correspond to\n",
    "\n",
    "```\n",
    "2011_09_30\n",
    "├── 2011_09_30_drive_0033_sync\n",
    "│   ├── image_00\n",
    "│   ├── image_01\n",
    "│   ├── image_02\n",
    "│   ├── image_03\n",
    "│   ├── oxts\n",
    "│   └── velodyne_points\n",
    "├── calib_cam_to_cam.txt\n",
    "├── calib_imu_to_velo.txt\n",
    "└── calib_velo_to_cam.txt\n",
    "```"
   ]
  },
  {
   "cell_type": "code",
   "execution_count": 6,
   "id": "judicial-treasury",
   "metadata": {},
   "outputs": [],
   "source": [
    "kitti_root_dir = '/home/kimsooyoung/Documents/AI_KR'\n",
    "kitti_date = '2011_09_30'\n",
    "kitti_drive = '0033'\n",
    "\n",
    "# dataset = pykitti.odometry(data_base_dir, sequence_idx)\n",
    "dataset = pykitti.raw(kitti_root_dir, kitti_date, kitti_drive)"
   ]
  },
  {
   "cell_type": "markdown",
   "id": "atlantic-tsunami",
   "metadata": {},
   "source": [
    "## Dataset이 제대로 추가 되었나 궁금하시죠? 확인해봅시다. 😁"
   ]
  },
  {
   "cell_type": "code",
   "execution_count": 7,
   "id": "supreme-headquarters",
   "metadata": {
    "scrolled": true
   },
   "outputs": [
    {
     "data": {
      "image/png": "[encoded data removed]",
      "text/plain": [
       "<Figure size 432x288 with 1 Axes>"
      ]
     },
     "metadata": {
      "needs_background": "light"
     },
     "output_type": "display_data"
    }
   ],
   "source": [
    "num_frames = len(dataset)\n",
    "third_velo = dataset.get_velo(2)\n",
    "\n",
    "f2 = plt.figure()\n",
    "ax2 = f2.add_subplot(111, projection='3d')\n",
    "# Plot every 100th point so things don't get too bogged down\n",
    "velo_range = range(0, third_velo.shape[0], 10)\n",
    "ax2.scatter(third_velo[velo_range, 0],\n",
    "            third_velo[velo_range, 1],\n",
    "            third_velo[velo_range, 2],\n",
    "            c=third_velo[velo_range, 3],\n",
    "            # cmap='gray'\n",
    "            )\n",
    "ax2.set_title('Third Velodyne scan (subsampled)')\n",
    "\n",
    "plt.show()"
   ]
  },
  {
   "cell_type": "markdown",
   "id": "public-occurrence",
   "metadata": {},
   "source": [
    "\n",
    "> ### If the Point Cloud Scatter looks good, it is a success!!!\n",
    "\n",
    "## With the parameters you set, let's take a look at PyICP in earnest. <a class=\"anchor\" id=\"PyICP-simple-look\"></a>\n"
   ]
  },
  {
   "cell_type": "markdown",
   "id": "cardiac-inspector",
   "metadata": {},
   "source": [
    "## Initialize Pose Graph\n",
    "\n",
    "PyICP uses a framework based on [GSTAM] (https://gtsam.org/) called minisam.\n",
    "When a new pose comes in, it is associated with the previous poses,\n",
    "When Loop Closure is Detected, the task of optimizing the whole is performed."
   ]
  },
  {
   "cell_type": "code",
   "execution_count": 8,
   "id": "three-bunch",
   "metadata": {},
   "outputs": [],
   "source": [
    "# Pose Graph Manager (for back-end optimization) initialization\n",
    "PGM = PoseGraphManager()\n",
    "PGM.addPriorFactor()"
   ]
  },
  {
   "cell_type": "markdown",
   "id": "consistent-anniversary",
   "metadata": {},
   "source": [
    "## Result saver\n",
    "\n",
    "In the KITTI Dataset, poses are represented by a **4x4 homogeneous pose matrix**.\n",
    "```\n",
    "\n",
    "r11 r12 r13 tx\n",
    "r21 r22 r23 ty\n",
    "r31 r32 r33 tz\n",
    "0   0   0   1\n",
    "```\n",
    "\n",
    "This Matrix contains **rotation** and **translation** as above.\n",
    "\n",
    "PyICP unfolds them and saves them in csv format, and the settings below are for them."
   ]
  },
  {
   "cell_type": "markdown",
   "id": "auburn-sociology",
   "metadata": {},
   "source": [
    "* **save_dir** : Folder to save the csv result file\n",
    "* **PoseGraphResultSaver** : Manager that helps file input/output conveniently."
   ]
  },
  {
   "cell_type": "code",
   "execution_count": 12,
   "id": "bulgarian-mystery",
   "metadata": {},
   "outputs": [],
   "source": [
    "# Result saver\n",
    "save_dir = \"result/\" + kitti_drive\n",
    "\n",
    "if not os.path.exists(save_dir): \n",
    "    os.makedirs(save_dir)\n",
    "    \n",
    "ResultSaver = PoseGraphResultSaver(init_pose=PGM.curr_se3, \n",
    "                                     save_gap=save_gap,\n",
    "                                     num_frames=num_frames,\n",
    "                                     seq_idx=kitti_drive,\n",
    "                                     save_dir=save_dir)"
   ]
  },
  {
   "cell_type": "markdown",
   "id": "elegant-regression",
   "metadata": {},
   "source": [
    "## Initialize  Scan Context Mananger"
   ]
  },
  {
   "cell_type": "markdown",
   "id": "improved-analysis",
   "metadata": {},
   "source": [
    "PyICP detects loop closure through Scan Context.\n",
    "A brief description of this has been separately summarized in Notion, and here we will briefly review it with an intuitive gif.\n",
    "\n",
    "<img src=\"https://user-images.githubusercontent.com/12381733/111986526-65b67400-8b51-11eb-95db-222bc2fc0561.gif\" width=\"250\" height=\"250\"/>\n",
    "\n",
    "Simply put, Scan Context transforms a **3D Lidar Point Cloud** into a **two-dimensional vector**.\n",
    "If you look at the two-dimensional bottom, does it look like an image is being created? In fact, it is because an image is a two-dimensional vector.\n",
    "\n",
    "became an image? Do you have any thoughts about using **Convolution Network**?\n",
    "\n",
    "If you look at [Scan Context Github Repo](https://github.com/irapkaist/scancontext), it also covers this, so it would be good to take a look."
   ]
  },
  {
   "cell_type": "markdown",
   "id": "hearing-image",
   "metadata": {},
   "source": [
    "Coming back to the main point, we define ScanContextManager with parameters to configure Scan Context and detect Loop Closure."
   ]
  },
  {
   "cell_type": "code",
   "execution_count": 13,
   "id": "piano-privacy",
   "metadata": {},
   "outputs": [],
   "source": [
    "# Scan Context Manager (for loop detection) initialization\n",
    "SCM = ScanContextManager(shape=[num_rings, num_sectors], \n",
    "                            num_candidates=num_candidates, \n",
    "                            threshold=loop_threshold)"
   ]
  },
  {
   "cell_type": "markdown",
   "id": "surgical-polls",
   "metadata": {},
   "source": [
    "## matplotlib settings\n",
    "\n",
    "In PyICP, a function to visually display the calculated odometry of the KITTI Dataset is implemented.\n",
    "However, it is not visualized at every timestep, and a plot is drawn at regular intervals, and this is the setting.\n",
    "\n",
    "* **num_frames_to_skip_to_show** : This means that a plot will be drawn every 100 datasets."
   ]
  },
  {
   "cell_type": "code",
   "execution_count": 14,
   "id": "inappropriate-vaccine",
   "metadata": {},
   "outputs": [
    {
     "data": {
      "text/plain": [
       "<Figure size 432x288 with 0 Axes>"
      ]
     },
     "metadata": {},
     "output_type": "display_data"
    }
   ],
   "source": [
    "# for save the results as a video\n",
    "fig_idx = 1\n",
    "fig = plt.figure(fig_idx)\n",
    "num_frames_to_skip_to_show = 100"
   ]
  },
  {
   "cell_type": "markdown",
   "id": "hungry-uzbekistan",
   "metadata": {},
   "source": [
    "# Run Main Loop <a class=\"anchor\" id=\"Main-Loop-Run\"></a>\n",
    "\n",
    "- SLAM is performed while the main loop traverses the entire velodyne dataset in turn.\n",
    "\n",
    "- Now, before looking at the main loop, we would like to briefly review the process.\n",
    "\n",
    "First, let's extract the data for testing."
   ]
  },
  {
   "cell_type": "code",
   "execution_count": 15,
   "id": "tender-small",
   "metadata": {},
   "outputs": [],
   "source": [
    "first_velo = dataset.get_velo(0)\n",
    "second_velo = dataset.get_velo(1)\n",
    "\n",
    "first_idx = 0\n",
    "second_idx = 1"
   ]
  },
  {
   "cell_type": "markdown",
   "id": "olive-magic",
   "metadata": {},
   "source": [
    "Let's take a look at the process in order.\n",
    "\n",
    "**One. Only `num_icp_points` points defined above for computational efficiency among Point Clouds of the current timestep are used. For this purpose, random sampling is performed.**"
   ]
  },
  {
   "cell_type": "code",
   "execution_count": 16,
   "id": "progressive-investing",
   "metadata": {},
   "outputs": [],
   "source": [
    "# random sample current information     \n",
    "curr_scan_down_pts = Ptutils.random_sampling(first_velo, num_points=num_icp_points)\n",
    "curr_scan_down_pts_2 = Ptutils.random_sampling(second_velo, num_points=num_icp_points)"
   ]
  },
  {
   "cell_type": "markdown",
   "id": "optional-albert",
   "metadata": {},
   "source": [
    "**2. By passing the previous result to the Scan Context Manager, a Scan Context is created and stored in memory.**"
   ]
  },
  {
   "cell_type": "code",
   "execution_count": 17,
   "id": "proof-bubble",
   "metadata": {},
   "outputs": [],
   "source": [
    "# save first node\n",
    "PGM.curr_node_idx = first_idx # make start with 0\n",
    "SCM.addNode(node_idx=PGM.curr_node_idx, ptcloud=curr_scan_down_pts)\n",
    "\n",
    "# first node needs initialization\n",
    "PGM.prev_node_idx = PGM.curr_node_idx\n",
    "prev_scan_pts = copy.deepcopy(second_velo)\n",
    "icp_initial = np.eye(4)\n",
    "\n",
    "# save second node\n",
    "PGM.curr_node_idx = second_idx # make start with 0\n",
    "SCM.addNode(node_idx=PGM.curr_node_idx, ptcloud=curr_scan_down_pts_2)"
   ]
  },
  {
   "cell_type": "markdown",
   "id": "verified-baptist",
   "metadata": {},
   "source": [
    "**3. Compared to the timestep, how much the robot moved (=odometry transform) is calculated through ICP (Iterative closest point).**\n",
    "\n",
    "There is also a notion note organized during the study. [Link] (https://www.notion.so/ICP-9c5e82be0d12462588b9e6f20f2e9fbb) is attached, so it would be good to take a look.\n",
    "\n",
    "<img src=\"https://user-images.githubusercontent.com/12381733/112298458-63335600-8cda-11eb-81d3-9ac8090313cf.png\" width=\"400\" height=\"400\"/>"
   ]
  },
  {
   "cell_type": "code",
   "execution_count": 18,
   "id": "supposed-nepal",
   "metadata": {},
   "outputs": [],
   "source": [
    "# calc odometry\n",
    "prev_scan_down_pts = Ptutils.random_sampling(prev_scan_pts, num_points=num_icp_points)\n",
    "odom_transform, _, _ = ICP.icp(curr_scan_down_pts, prev_scan_down_pts, init_pose=icp_initial, max_iterations=20)"
   ]
  },
  {
   "cell_type": "markdown",
   "id": "ambient-saint",
   "metadata": {},
   "source": [
    "**4. Update the current pose through the calculated odometry transform.**"
   ]
  },
  {
   "cell_type": "code",
   "execution_count": 19,
   "id": "exact-indianapolis",
   "metadata": {},
   "outputs": [],
   "source": [
    "# update the current (moved) pose \n",
    "PGM.curr_se3 = np.matmul(PGM.curr_se3, odom_transform)\n",
    "icp_initial = odom_transform # assumption: constant velocity model (for better next ICP converges)"
   ]
  },
  {
   "cell_type": "markdown",
   "id": "friendly-examination",
   "metadata": {},
   "source": [
    "**5. Add Odometry to Pose Graph**\n",
    "\n",
    "This is a very important part, and again, PyICP connects the relationships between the incoming poses through a Pose Graph.\n",
    "In order to do this, you will have to carefully insert the new pose into consideration for the association between the old poses.\n",
    "\n",
    "It may be helpful to have a look at [minisam example] (https://minisam.readthedocs.io/pose_graph_2d.html) for this."
   ]
  },
  {
   "cell_type": "code",
   "execution_count": 20,
   "id": "threatened-reduction",
   "metadata": {},
   "outputs": [],
   "source": [
    "# add the odometry factor to the graph \n",
    "PGM.addOdometryFactor(odom_transform)\n",
    "\n",
    "# renewal the prev information \n",
    "PGM.prev_node_idx = PGM.curr_node_idx\n",
    "prev_scan_pts = copy.deepcopy(second_velo)"
   ]
  },
  {
   "cell_type": "markdown",
   "id": "associate-result",
   "metadata": {},
   "source": [
    "**6. Loop Closure Detection, Pose Graph Optimization**\n",
    "\n",
    "\n",
    "We found that the data that came in this time was similar to the place it came from before.\n",
    "Then it will be possible to rearrange the traces that have moved in the meantime.\n",
    "\n",
    "In SLAM, this is called Loop Closure, and when it is detected, rearrangement, that is, Backend Optimization, is performed.\n",
    "If you look at the code, you can see that it is implemented with the following functions.\n",
    "\n",
    "- `addLoopFactor` : Notifies the Pose Graph Manager of Loop Closure Detection and delivers the information of two Point Clouds determined to be similar.\n",
    "- `optimizePoseGraph` : This is the part where Pose Graph Manager performs reorganization, that is, optimization. It takes a lot of computation because we have to touch all the odometry between the two indices."
   ]
  },
  {
   "cell_type": "code",
   "execution_count": 21,
   "id": "acquired-scenario",
   "metadata": {},
   "outputs": [],
   "source": [
    "# loop detection and optimize the graph \n",
    "if(PGM.curr_node_idx > 1 and PGM.curr_node_idx % args.try_gap_loop_detection == 0): \n",
    "    # 1/ loop detection \n",
    "    loop_idx, loop_dist, yaw_diff_deg = SCM.detectLoop()\n",
    "    if(loop_idx == None): # NOT FOUND\n",
    "        pass\n",
    "    else:\n",
    "        print(\"Loop event detected: \", PGM.curr_node_idx, loop_idx, loop_dist)\n",
    "        # 2-1/ add the loop factor \n",
    "        loop_scan_down_pts = SCM.getPtcloud(loop_idx)\n",
    "        loop_transform, _, _ = ICP.icp(curr_scan_down_pts, loop_scan_down_pts, init_pose=yawdeg2se3(yaw_diff_deg), max_iterations=20)\n",
    "        PGM.addLoopFactor(loop_transform, loop_idx)\n",
    "\n",
    "        # 2-2/ graph optimization \n",
    "        PGM.optimizePoseGraph()\n",
    "\n",
    "        # 2-2/ save optimized poses\n",
    "        ResultSaver.saveOptimizedPoseGraphResult(PGM.curr_node_idx, PGM.graph_optimized)"
   ]
  },
  {
   "cell_type": "markdown",
   "id": "political-disclaimer",
   "metadata": {},
   "source": [
    "### The preceding steps are cycled through the dataset.\n",
    "\n",
    "- Let's appreciate the odometry calculated through matplotlib.\n",
    "- Depending on the environment, it may take about 20-30 minutes**."
   ]
  },
  {
   "cell_type": "code",
   "execution_count": 24,
   "id": "grand-still",
   "metadata": {},
   "outputs": [],
   "source": [
    "# Pose Graph Manager (for back-end optimization) initialization\n",
    "PGM = PoseGraphManager()\n",
    "PGM.addPriorFactor()\n",
    "\n",
    "# Result saver\n",
    "save_dir = \"result/\" + kitti_drive\n",
    "\n",
    "if not os.path.exists(save_dir):\n",
    "    os.makedirs(save_dir)\n",
    "    \n",
    "ResultSaver = PoseGraphResultSaver(init_pose=PGM.curr_se3, \n",
    "                                     save_gap=save_gap,\n",
    "                                     num_frames=len(dataset),\n",
    "                                     seq_idx=kitti_drive,\n",
    "                                     save_dir=save_dir)\n",
    "\n",
    "# Scan Context Manager (for loop detection) initialization\n",
    "SCM = ScanContextManager(shape=[num_rings, num_sectors], \n",
    "                            num_candidates=num_candidates, \n",
    "                            threshold=loop_threshold)"
   ]
  },
  {
   "cell_type": "code",
   "execution_count": 23,
   "id": "reflected-marsh",
   "metadata": {
    "scrolled": true
   },
   "outputs": [
    {
     "name": "stderr",
     "output_type": "stream",
     "text": [
      " 28%|██▊       | 450/1594 [03:22<08:34,  2.22it/s]\n"
     ]
    },
    {
     "ename": "KeyboardInterrupt",
     "evalue": "",
     "output_type": "error",
     "traceback": [
      "\u001b[0;31m---------------------------------------------------------------------------\u001b[0m",
      "\u001b[0;31mKeyboardInterrupt\u001b[0m                         Traceback (most recent call last)",
      "\u001b[0;32m<ipython-input-23-090b9afdf930>\u001b[0m in \u001b[0;36m<module>\u001b[0;34m\u001b[0m\n\u001b[1;32m     31\u001b[0m     \u001b[0;32mif\u001b[0m\u001b[0;34m(\u001b[0m\u001b[0mPGM\u001b[0m\u001b[0;34m.\u001b[0m\u001b[0mcurr_node_idx\u001b[0m \u001b[0;34m>\u001b[0m \u001b[0;36m1\u001b[0m \u001b[0;32mand\u001b[0m \u001b[0mPGM\u001b[0m\u001b[0;34m.\u001b[0m\u001b[0mcurr_node_idx\u001b[0m \u001b[0;34m%\u001b[0m \u001b[0mtry_gap_loop_detection\u001b[0m \u001b[0;34m==\u001b[0m \u001b[0;36m0\u001b[0m\u001b[0;34m)\u001b[0m\u001b[0;34m:\u001b[0m\u001b[0;34m\u001b[0m\u001b[0;34m\u001b[0m\u001b[0m\n\u001b[1;32m     32\u001b[0m         \u001b[0;31m# 1/ loop detection\u001b[0m\u001b[0;34m\u001b[0m\u001b[0;34m\u001b[0m\u001b[0;34m\u001b[0m\u001b[0m\n\u001b[0;32m---> 33\u001b[0;31m         \u001b[0mloop_idx\u001b[0m\u001b[0;34m,\u001b[0m \u001b[0mloop_dist\u001b[0m\u001b[0;34m,\u001b[0m \u001b[0myaw_diff_deg\u001b[0m \u001b[0;34m=\u001b[0m \u001b[0mSCM\u001b[0m\u001b[0;34m.\u001b[0m\u001b[0mdetectLoop\u001b[0m\u001b[0;34m(\u001b[0m\u001b[0;34m)\u001b[0m\u001b[0;34m\u001b[0m\u001b[0;34m\u001b[0m\u001b[0m\n\u001b[0m\u001b[1;32m     34\u001b[0m         \u001b[0;32mif\u001b[0m\u001b[0;34m(\u001b[0m\u001b[0mloop_idx\u001b[0m \u001b[0;34m==\u001b[0m \u001b[0;32mNone\u001b[0m\u001b[0;34m)\u001b[0m\u001b[0;34m:\u001b[0m \u001b[0;31m# NOT FOUND\u001b[0m\u001b[0;34m\u001b[0m\u001b[0;34m\u001b[0m\u001b[0m\n\u001b[1;32m     35\u001b[0m             \u001b[0;32mpass\u001b[0m\u001b[0;34m\u001b[0m\u001b[0;34m\u001b[0m\u001b[0m\n",
      "\u001b[0;32m~/Documents/AI_KR/sensor_fusion_python/PyICP-SLAM/utils/ScanContextManager.py\u001b[0m in \u001b[0;36mdetectLoop\u001b[0;34m(self)\u001b[0m\n\u001b[1;32m    160\u001b[0m                 \u001b[0mcandidate_idx\u001b[0m \u001b[0;34m=\u001b[0m \u001b[0mnncandidates_idx\u001b[0m\u001b[0;34m[\u001b[0m\u001b[0mith\u001b[0m\u001b[0;34m]\u001b[0m\u001b[0;34m\u001b[0m\u001b[0;34m\u001b[0m\u001b[0m\n\u001b[1;32m    161\u001b[0m                 \u001b[0mcandidate_sc\u001b[0m \u001b[0;34m=\u001b[0m \u001b[0mself\u001b[0m\u001b[0;34m.\u001b[0m\u001b[0mscancontexts\u001b[0m\u001b[0;34m[\u001b[0m\u001b[0mcandidate_idx\u001b[0m\u001b[0;34m]\u001b[0m\u001b[0;34m\u001b[0m\u001b[0;34m\u001b[0m\u001b[0m\n\u001b[0;32m--> 162\u001b[0;31m                 \u001b[0mdist\u001b[0m\u001b[0;34m,\u001b[0m \u001b[0myaw_diff\u001b[0m \u001b[0;34m=\u001b[0m \u001b[0mdistance_sc\u001b[0m\u001b[0;34m(\u001b[0m\u001b[0mcandidate_sc\u001b[0m\u001b[0;34m,\u001b[0m \u001b[0mquery_sc\u001b[0m\u001b[0;34m)\u001b[0m\u001b[0;34m\u001b[0m\u001b[0;34m\u001b[0m\u001b[0m\n\u001b[0m\u001b[1;32m    163\u001b[0m                 \u001b[0;32mif\u001b[0m\u001b[0;34m(\u001b[0m\u001b[0mdist\u001b[0m \u001b[0;34m<\u001b[0m \u001b[0mnn_dist\u001b[0m\u001b[0;34m)\u001b[0m\u001b[0;34m:\u001b[0m\u001b[0;34m\u001b[0m\u001b[0;34m\u001b[0m\u001b[0m\n\u001b[1;32m    164\u001b[0m                     \u001b[0mnn_dist\u001b[0m \u001b[0;34m=\u001b[0m \u001b[0mdist\u001b[0m\u001b[0;34m\u001b[0m\u001b[0;34m\u001b[0m\u001b[0m\n",
      "\u001b[0;32m~/Documents/AI_KR/sensor_fusion_python/PyICP-SLAM/utils/ScanContextManager.py\u001b[0m in \u001b[0;36mdistance_sc\u001b[0;34m(sc1, sc2)\u001b[0m\n\u001b[1;32m     92\u001b[0m                 \u001b[0;32mcontinue\u001b[0m\u001b[0;34m\u001b[0m\u001b[0;34m\u001b[0m\u001b[0m\n\u001b[1;32m     93\u001b[0m \u001b[0;34m\u001b[0m\u001b[0m\n\u001b[0;32m---> 94\u001b[0;31m             \u001b[0mcossim\u001b[0m \u001b[0;34m=\u001b[0m \u001b[0mnp\u001b[0m\u001b[0;34m.\u001b[0m\u001b[0mdot\u001b[0m\u001b[0;34m(\u001b[0m\u001b[0mcol_j_1\u001b[0m\u001b[0;34m,\u001b[0m \u001b[0mcol_j_2\u001b[0m\u001b[0;34m)\u001b[0m \u001b[0;34m/\u001b[0m \u001b[0;34m(\u001b[0m\u001b[0mnp\u001b[0m\u001b[0;34m.\u001b[0m\u001b[0mlinalg\u001b[0m\u001b[0;34m.\u001b[0m\u001b[0mnorm\u001b[0m\u001b[0;34m(\u001b[0m\u001b[0mcol_j_1\u001b[0m\u001b[0;34m)\u001b[0m \u001b[0;34m*\u001b[0m \u001b[0mnp\u001b[0m\u001b[0;34m.\u001b[0m\u001b[0mlinalg\u001b[0m\u001b[0;34m.\u001b[0m\u001b[0mnorm\u001b[0m\u001b[0;34m(\u001b[0m\u001b[0mcol_j_2\u001b[0m\u001b[0;34m)\u001b[0m\u001b[0;34m)\u001b[0m\u001b[0;34m\u001b[0m\u001b[0;34m\u001b[0m\u001b[0m\n\u001b[0m\u001b[1;32m     95\u001b[0m             \u001b[0msum_of_cossim\u001b[0m \u001b[0;34m=\u001b[0m \u001b[0msum_of_cossim\u001b[0m \u001b[0;34m+\u001b[0m \u001b[0mcossim\u001b[0m\u001b[0;34m\u001b[0m\u001b[0;34m\u001b[0m\u001b[0m\n\u001b[1;32m     96\u001b[0m \u001b[0;34m\u001b[0m\u001b[0m\n",
      "\u001b[0;32m<__array_function__ internals>\u001b[0m in \u001b[0;36mnorm\u001b[0;34m(*args, **kwargs)\u001b[0m\n",
      "\u001b[0;32m~/anaconda3/envs/ai_robo_kr/lib/python3.8/site-packages/numpy/linalg/linalg.py\u001b[0m in \u001b[0;36mnorm\u001b[0;34m(x, ord, axis, keepdims)\u001b[0m\n\u001b[1;32m   2528\u001b[0m                 \u001b[0msqnorm\u001b[0m \u001b[0;34m=\u001b[0m \u001b[0mdot\u001b[0m\u001b[0;34m(\u001b[0m\u001b[0mx\u001b[0m\u001b[0;34m.\u001b[0m\u001b[0mreal\u001b[0m\u001b[0;34m,\u001b[0m \u001b[0mx\u001b[0m\u001b[0;34m.\u001b[0m\u001b[0mreal\u001b[0m\u001b[0;34m)\u001b[0m \u001b[0;34m+\u001b[0m \u001b[0mdot\u001b[0m\u001b[0;34m(\u001b[0m\u001b[0mx\u001b[0m\u001b[0;34m.\u001b[0m\u001b[0mimag\u001b[0m\u001b[0;34m,\u001b[0m \u001b[0mx\u001b[0m\u001b[0;34m.\u001b[0m\u001b[0mimag\u001b[0m\u001b[0;34m)\u001b[0m\u001b[0;34m\u001b[0m\u001b[0;34m\u001b[0m\u001b[0m\n\u001b[1;32m   2529\u001b[0m             \u001b[0;32melse\u001b[0m\u001b[0;34m:\u001b[0m\u001b[0;34m\u001b[0m\u001b[0;34m\u001b[0m\u001b[0m\n\u001b[0;32m-> 2530\u001b[0;31m                 \u001b[0msqnorm\u001b[0m \u001b[0;34m=\u001b[0m \u001b[0mdot\u001b[0m\u001b[0;34m(\u001b[0m\u001b[0mx\u001b[0m\u001b[0;34m,\u001b[0m \u001b[0mx\u001b[0m\u001b[0;34m)\u001b[0m\u001b[0;34m\u001b[0m\u001b[0;34m\u001b[0m\u001b[0m\n\u001b[0m\u001b[1;32m   2531\u001b[0m             \u001b[0mret\u001b[0m \u001b[0;34m=\u001b[0m \u001b[0msqrt\u001b[0m\u001b[0;34m(\u001b[0m\u001b[0msqnorm\u001b[0m\u001b[0;34m)\u001b[0m\u001b[0;34m\u001b[0m\u001b[0;34m\u001b[0m\u001b[0m\n\u001b[1;32m   2532\u001b[0m             \u001b[0;32mif\u001b[0m \u001b[0mkeepdims\u001b[0m\u001b[0;34m:\u001b[0m\u001b[0;34m\u001b[0m\u001b[0;34m\u001b[0m\u001b[0m\n",
      "\u001b[0;32m<__array_function__ internals>\u001b[0m in \u001b[0;36mdot\u001b[0;34m(*args, **kwargs)\u001b[0m\n",
      "\u001b[0;31mKeyboardInterrupt\u001b[0m: "
     ]
    }
   ],
   "source": [
    "for for_idx, curr_scan_pts in tqdm(enumerate(dataset.velo), total=num_frames, mininterval=5.0):\n",
    "\n",
    "    # random sample current information     \n",
    "    curr_scan_down_pts = Ptutils.random_sampling(curr_scan_pts, num_points=num_icp_points)\n",
    "\n",
    "    # save current node\n",
    "    PGM.curr_node_idx = for_idx # make start with 0\n",
    "    SCM.addNode(node_idx=PGM.curr_node_idx, ptcloud=curr_scan_down_pts)\n",
    "    if(PGM.curr_node_idx == 0):\n",
    "        PGM.prev_node_idx = PGM.curr_node_idx\n",
    "        prev_scan_pts = copy.deepcopy(curr_scan_pts)\n",
    "        icp_initial = np.eye(4)\n",
    "        continue\n",
    "\n",
    "    # calc odometry\n",
    "    prev_scan_down_pts = Ptutils.random_sampling(prev_scan_pts, num_points=num_icp_points)\n",
    "    odom_transform, _, _ = ICP.icp(curr_scan_down_pts, prev_scan_down_pts, init_pose=icp_initial, max_iterations=20)\n",
    "\n",
    "    # update the current (moved) pose \n",
    "    PGM.curr_se3 = np.matmul(PGM.curr_se3, odom_transform)\n",
    "    icp_initial = odom_transform # assumption: constant velocity model (for better next ICP converges)\n",
    "\n",
    "    # add the odometry factor to the graph \n",
    "    PGM.addOdometryFactor(odom_transform)\n",
    "\n",
    "    # renewal the prev information \n",
    "    PGM.prev_node_idx = PGM.curr_node_idx\n",
    "    prev_scan_pts = copy.deepcopy(curr_scan_pts)\n",
    "\n",
    "    # loop detection and optimize the graph \n",
    "    if(PGM.curr_node_idx > 1 and PGM.curr_node_idx % try_gap_loop_detection == 0): \n",
    "        # 1/ loop detection \n",
    "        loop_idx, loop_dist, yaw_diff_deg = SCM.detectLoop()\n",
    "        if(loop_idx == None): # NOT FOUND\n",
    "            pass\n",
    "        else:\n",
    "            print(\"Loop event detected: \", PGM.curr_node_idx, loop_idx, loop_dist)\n",
    "            # 2-1/ add the loop factor \n",
    "            loop_scan_down_pts = SCM.getPtcloud(loop_idx)\n",
    "            loop_transform, _, _ = ICP.icp(curr_scan_down_pts, loop_scan_down_pts, init_pose=yawdeg2se3(yaw_diff_deg), max_iterations=20)\n",
    "            PGM.addLoopFactor(loop_transform, loop_idx)\n",
    "\n",
    "            # 2-2/ graph optimization \n",
    "            PGM.optimizePoseGraph()\n",
    "\n",
    "            # 2-2/ save optimized poses\n",
    "            ResultSaver.saveOptimizedPoseGraphResult(PGM.curr_node_idx, PGM.graph_optimized)\n",
    "\n",
    "    # save the ICP odometry pose result (no loop closure)\n",
    "    ResultSaver.saveUnoptimizedPoseGraphResult(PGM.curr_se3, PGM.curr_node_idx) \n",
    "#     if(for_idx % num_frames_to_skip_to_show == 0):\n",
    "#         ResultSaver.vizCurrentTrajectory(fig_idx=fig_idx)"
   ]
  },
  {
   "cell_type": "markdown",
   "id": "precise-conference",
   "metadata": {},
   "source": [
    "## For simplicity, let's visualize the Trajectory results."
   ]
  },
  {
   "cell_type": "code",
   "execution_count": 34,
   "id": "excess-builder",
   "metadata": {
    "scrolled": true
   },
   "outputs": [
    {
     "data": {
      "image/png": "[encoded data removed]",
      "text/plain": [
       "<Figure size 432x288 with 1 Axes>"
      ]
     },
     "metadata": {
      "needs_background": "light"
     },
     "output_type": "display_data"
    }
   ],
   "source": [
    "ResultSaver.vizCurrentTrajectory(fig_idx=1)"
   ]
  },
  {
   "cell_type": "markdown",
   "id": "blessed-metabolism",
   "metadata": {},
   "source": [
    "# Analyze Results <a class=\"anchor\" id=\"Result-Analysis\"></a>"
   ]
  },
  {
   "cell_type": "code",
   "execution_count": 43,
   "id": "blocked-addiction",
   "metadata": {},
   "outputs": [],
   "source": [
    "pose_list = ResultSaver.pose_list\n",
    "_col, _row = pose_list.shape"
   ]
  },
  {
   "cell_type": "markdown",
   "id": "judicial-violin",
   "metadata": {},
   "source": [
    "Initial Point <= GPS zero coordinates\n",
    "heading gps made with x,y,tan"
   ]
  },
  {
   "cell_type": "code",
   "execution_count": 44,
   "id": "republican-employer",
   "metadata": {
    "scrolled": true
   },
   "outputs": [
    {
     "data": {
      "image/png": "[encoded data removed]",
      "text/plain": [
       "<Figure size 576x432 with 1 Axes>"
      ]
     },
     "metadata": {
      "needs_background": "light"
     },
     "output_type": "display_data"
    }
   ],
   "source": [
    "x_pos = pose_list[:,3]\n",
    "y_pos = pose_list[:,7]\n",
    "\n",
    "fig, ax = plt.subplots(1, 1, figsize=(8, 6))\n",
    "ax.plot(pose_list[:,3], pose_list[:,7])\n",
    "ax.set_xlabel('X [m]')\n",
    "ax.set_ylabel('Y [m]')\n",
    "ax.grid();\n",
    "\n",
    "plt.show()"
   ]
  },
  {
   "cell_type": "code",
   "execution_count": 37,
   "id": "illegal-pixel",
   "metadata": {},
   "outputs": [],
   "source": [
    "gt_trajectory_lla = []  # [longitude(deg), latitude(deg), altitude(meter)] x N\n",
    "gt_yaws = []  # [yaw_angle(rad),] x N\n",
    "gt_yaw_rates= []  # [vehicle_yaw_rate(rad/s),] x N\n",
    "gt_forward_velocities = []  # [vehicle_forward_velocity(m/s),] x N\n",
    "\n",
    "for oxts_data in dataset.oxts:\n",
    "    packet = oxts_data.packet\n",
    "    gt_trajectory_lla.append([\n",
    "        packet.lon,\n",
    "        packet.lat,\n",
    "        packet.alt\n",
    "    ])\n",
    "    gt_yaws.append(packet.yaw)\n",
    "    gt_yaw_rates.append(packet.wz)\n",
    "    gt_forward_velocities.append(packet.vf)\n",
    "\n",
    "gt_trajectory_lla = np.array(gt_trajectory_lla).T\n",
    "gt_yaws = np.array(gt_yaws)\n",
    "gt_yaw_rates = np.array(gt_yaw_rates)\n",
    "gt_forward_velocities = np.array(gt_forward_velocities)"
   ]
  },
  {
   "cell_type": "code",
   "execution_count": 38,
   "id": "classical-notification",
   "metadata": {
    "scrolled": true
   },
   "outputs": [
    {
     "data": {
      "image/png": "[encoded data removed]",
      "text/plain": [
       "<Figure size 576x432 with 1 Axes>"
      ]
     },
     "metadata": {
      "needs_background": "light"
     },
     "output_type": "display_data"
    }
   ],
   "source": [
    "lons, lats, _ = gt_trajectory_lla\n",
    "\n",
    "fig, ax = plt.subplots(1, 1, figsize=(8, 6))\n",
    "ax.plot(lons, lats)\n",
    "ax.set_xlabel('longitude [deg]')\n",
    "ax.set_ylabel('latitude [deg]')\n",
    "ax.grid();"
   ]
  },
  {
   "cell_type": "code",
   "execution_count": 42,
   "id": "republican-poetry",
   "metadata": {},
   "outputs": [
    {
     "data": {
      "image/png": "[encoded data removed]",
      "text/plain": [
       "<Figure size 576x432 with 1 Axes>"
      ]
     },
     "metadata": {
      "needs_background": "light"
     },
     "output_type": "display_data"
    }
   ],
   "source": [
    "from utils.geo_transforms import lla_to_enu\n",
    "\n",
    "origin = gt_trajectory_lla[:, 0]  # set the initial position to the origin\n",
    "gt_trajectory_xyz = lla_to_enu(gt_trajectory_lla, origin)\n",
    "\n",
    "xs, ys, _ = gt_trajectory_xyz\n",
    "fig, ax = plt.subplots(1, 1, figsize=(8, 6))\n",
    "ax.plot(xs, ys)\n",
    "ax.set_xlabel('X [m]')\n",
    "ax.set_ylabel('Y [m]')\n",
    "ax.grid();"
   ]
  },
  {
   "cell_type": "markdown",
   "id": "afraid-manual",
   "metadata": {},
   "source": [
    "\n",
    "# TODO\n",
    "\n",
    "* Ground truth and point of view match - help!!\n",
    "* Completing the loop by improving parameters\n",
    "* Profiling - what takes the longest?\n",
    "* Google Drive Linkage - Data loading is slow and build takes quite a bit ㅠㅠ Work last!!\n",
    "\n",
    "> # Fighting again!!!!"
   ]
  },
  {
   "cell_type": "code",
   "execution_count": null,
   "id": "nasty-tokyo",
   "metadata": {},
   "outputs": [],
   "source": []
  }
 ],
 "metadata": {
  "kernelspec": {
   "display_name": "Python 3 (ipykernel)",
   "language": "python",
   "name": "python3"
  },
  "language_info": {
   "codemirror_mode": {
    "name": "ipython",
    "version": 3
   },
   "file_extension": ".py",
   "mimetype": "text/x-python",
   "name": "python",
   "nbconvert_exporter": "python",
   "pygments_lexer": "ipython3",
   "version": "3.9.12"
  }
 },
 "nbformat": 4,
 "nbformat_minor": 5
}
